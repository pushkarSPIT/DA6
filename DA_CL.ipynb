{
  "nbformat": 4,
  "nbformat_minor": 0,
  "metadata": {
    "colab": {
      "provenance": []
    },
    "kernelspec": {
      "name": "python3",
      "display_name": "Python 3"
    },
    "language_info": {
      "name": "python"
    }
  },
  "cells": [
    {
      "cell_type": "code",
      "source": [
        "import pandas as pd\n",
        "import numpy as np\n",
        "import matplotlib.pyplot as plt\n",
        "import seaborn as sns\n",
        "from collections import Counter"
      ],
      "metadata": {
        "id": "xNZ-CL52XIJM"
      },
      "execution_count": 1,
      "outputs": []
    },
    {
      "cell_type": "markdown",
      "source": [
        "# Importing data"
      ],
      "metadata": {
        "id": "I8QyoUD0XKob"
      }
    },
    {
      "cell_type": "code",
      "source": [
        "from google.colab import drive\n",
        "drive.mount('/content/drive')"
      ],
      "metadata": {
        "colab": {
          "base_uri": "https://localhost:8080/"
        },
        "id": "_SmTvF30XMFD",
        "outputId": "d44480ea-d110-454c-fe39-3337ca42c2a0"
      },
      "execution_count": 2,
      "outputs": [
        {
          "output_type": "stream",
          "name": "stdout",
          "text": [
            "Mounted at /content/drive\n"
          ]
        }
      ]
    },
    {
      "cell_type": "code",
      "source": [
        "emails = pd.read_csv(\"/content/drive/MyDrive/DA/emails.csv\")"
      ],
      "metadata": {
        "id": "nx8fQFNVXP66"
      },
      "execution_count": 3,
      "outputs": []
    },
    {
      "cell_type": "code",
      "source": [
        "emails.head()"
      ],
      "metadata": {
        "colab": {
          "base_uri": "https://localhost:8080/",
          "height": 206
        },
        "id": "OkgZkY2_Xc9O",
        "outputId": "3226ccec-611f-432e-d088-59abc096500f"
      },
      "execution_count": 4,
      "outputs": [
        {
          "output_type": "execute_result",
          "data": {
            "text/plain": [
              "                                                text  spam\n",
              "0  Subject: naturally irresistible your corporate...     1\n",
              "1  Subject: the stock trading gunslinger  fanny i...     1\n",
              "2  Subject: unbelievable new homes made easy  im ...     1\n",
              "3  Subject: 4 color printing special  request add...     1\n",
              "4  Subject: do not have money , get software cds ...     1"
            ],
            "text/html": [
              "\n",
              "  <div id=\"df-236cfcc5-a908-47fc-83f2-55331fb94436\">\n",
              "    <div class=\"colab-df-container\">\n",
              "      <div>\n",
              "<style scoped>\n",
              "    .dataframe tbody tr th:only-of-type {\n",
              "        vertical-align: middle;\n",
              "    }\n",
              "\n",
              "    .dataframe tbody tr th {\n",
              "        vertical-align: top;\n",
              "    }\n",
              "\n",
              "    .dataframe thead th {\n",
              "        text-align: right;\n",
              "    }\n",
              "</style>\n",
              "<table border=\"1\" class=\"dataframe\">\n",
              "  <thead>\n",
              "    <tr style=\"text-align: right;\">\n",
              "      <th></th>\n",
              "      <th>text</th>\n",
              "      <th>spam</th>\n",
              "    </tr>\n",
              "  </thead>\n",
              "  <tbody>\n",
              "    <tr>\n",
              "      <th>0</th>\n",
              "      <td>Subject: naturally irresistible your corporate...</td>\n",
              "      <td>1</td>\n",
              "    </tr>\n",
              "    <tr>\n",
              "      <th>1</th>\n",
              "      <td>Subject: the stock trading gunslinger  fanny i...</td>\n",
              "      <td>1</td>\n",
              "    </tr>\n",
              "    <tr>\n",
              "      <th>2</th>\n",
              "      <td>Subject: unbelievable new homes made easy  im ...</td>\n",
              "      <td>1</td>\n",
              "    </tr>\n",
              "    <tr>\n",
              "      <th>3</th>\n",
              "      <td>Subject: 4 color printing special  request add...</td>\n",
              "      <td>1</td>\n",
              "    </tr>\n",
              "    <tr>\n",
              "      <th>4</th>\n",
              "      <td>Subject: do not have money , get software cds ...</td>\n",
              "      <td>1</td>\n",
              "    </tr>\n",
              "  </tbody>\n",
              "</table>\n",
              "</div>\n",
              "      <button class=\"colab-df-convert\" onclick=\"convertToInteractive('df-236cfcc5-a908-47fc-83f2-55331fb94436')\"\n",
              "              title=\"Convert this dataframe to an interactive table.\"\n",
              "              style=\"display:none;\">\n",
              "        \n",
              "  <svg xmlns=\"http://www.w3.org/2000/svg\" height=\"24px\"viewBox=\"0 0 24 24\"\n",
              "       width=\"24px\">\n",
              "    <path d=\"M0 0h24v24H0V0z\" fill=\"none\"/>\n",
              "    <path d=\"M18.56 5.44l.94 2.06.94-2.06 2.06-.94-2.06-.94-.94-2.06-.94 2.06-2.06.94zm-11 1L8.5 8.5l.94-2.06 2.06-.94-2.06-.94L8.5 2.5l-.94 2.06-2.06.94zm10 10l.94 2.06.94-2.06 2.06-.94-2.06-.94-.94-2.06-.94 2.06-2.06.94z\"/><path d=\"M17.41 7.96l-1.37-1.37c-.4-.4-.92-.59-1.43-.59-.52 0-1.04.2-1.43.59L10.3 9.45l-7.72 7.72c-.78.78-.78 2.05 0 2.83L4 21.41c.39.39.9.59 1.41.59.51 0 1.02-.2 1.41-.59l7.78-7.78 2.81-2.81c.8-.78.8-2.07 0-2.86zM5.41 20L4 18.59l7.72-7.72 1.47 1.35L5.41 20z\"/>\n",
              "  </svg>\n",
              "      </button>\n",
              "      \n",
              "  <style>\n",
              "    .colab-df-container {\n",
              "      display:flex;\n",
              "      flex-wrap:wrap;\n",
              "      gap: 12px;\n",
              "    }\n",
              "\n",
              "    .colab-df-convert {\n",
              "      background-color: #E8F0FE;\n",
              "      border: none;\n",
              "      border-radius: 50%;\n",
              "      cursor: pointer;\n",
              "      display: none;\n",
              "      fill: #1967D2;\n",
              "      height: 32px;\n",
              "      padding: 0 0 0 0;\n",
              "      width: 32px;\n",
              "    }\n",
              "\n",
              "    .colab-df-convert:hover {\n",
              "      background-color: #E2EBFA;\n",
              "      box-shadow: 0px 1px 2px rgba(60, 64, 67, 0.3), 0px 1px 3px 1px rgba(60, 64, 67, 0.15);\n",
              "      fill: #174EA6;\n",
              "    }\n",
              "\n",
              "    [theme=dark] .colab-df-convert {\n",
              "      background-color: #3B4455;\n",
              "      fill: #D2E3FC;\n",
              "    }\n",
              "\n",
              "    [theme=dark] .colab-df-convert:hover {\n",
              "      background-color: #434B5C;\n",
              "      box-shadow: 0px 1px 3px 1px rgba(0, 0, 0, 0.15);\n",
              "      filter: drop-shadow(0px 1px 2px rgba(0, 0, 0, 0.3));\n",
              "      fill: #FFFFFF;\n",
              "    }\n",
              "  </style>\n",
              "\n",
              "      <script>\n",
              "        const buttonEl =\n",
              "          document.querySelector('#df-236cfcc5-a908-47fc-83f2-55331fb94436 button.colab-df-convert');\n",
              "        buttonEl.style.display =\n",
              "          google.colab.kernel.accessAllowed ? 'block' : 'none';\n",
              "\n",
              "        async function convertToInteractive(key) {\n",
              "          const element = document.querySelector('#df-236cfcc5-a908-47fc-83f2-55331fb94436');\n",
              "          const dataTable =\n",
              "            await google.colab.kernel.invokeFunction('convertToInteractive',\n",
              "                                                     [key], {});\n",
              "          if (!dataTable) return;\n",
              "\n",
              "          const docLinkHtml = 'Like what you see? Visit the ' +\n",
              "            '<a target=\"_blank\" href=https://colab.research.google.com/notebooks/data_table.ipynb>data table notebook</a>'\n",
              "            + ' to learn more about interactive tables.';\n",
              "          element.innerHTML = '';\n",
              "          dataTable['output_type'] = 'display_data';\n",
              "          await google.colab.output.renderOutput(dataTable, element);\n",
              "          const docLink = document.createElement('div');\n",
              "          docLink.innerHTML = docLinkHtml;\n",
              "          element.appendChild(docLink);\n",
              "        }\n",
              "      </script>\n",
              "    </div>\n",
              "  </div>\n",
              "  "
            ]
          },
          "metadata": {},
          "execution_count": 4
        }
      ]
    },
    {
      "cell_type": "code",
      "source": [
        "emails.describe()"
      ],
      "metadata": {
        "colab": {
          "base_uri": "https://localhost:8080/",
          "height": 300
        },
        "id": "dxntXb-2XgNr",
        "outputId": "7edc8fd1-b8ac-4bac-b399-c6ef73834832"
      },
      "execution_count": 5,
      "outputs": [
        {
          "output_type": "execute_result",
          "data": {
            "text/plain": [
              "              spam\n",
              "count  5728.000000\n",
              "mean      0.238827\n",
              "std       0.426404\n",
              "min       0.000000\n",
              "25%       0.000000\n",
              "50%       0.000000\n",
              "75%       0.000000\n",
              "max       1.000000"
            ],
            "text/html": [
              "\n",
              "  <div id=\"df-669572c5-639b-4224-8e27-f9d67794a606\">\n",
              "    <div class=\"colab-df-container\">\n",
              "      <div>\n",
              "<style scoped>\n",
              "    .dataframe tbody tr th:only-of-type {\n",
              "        vertical-align: middle;\n",
              "    }\n",
              "\n",
              "    .dataframe tbody tr th {\n",
              "        vertical-align: top;\n",
              "    }\n",
              "\n",
              "    .dataframe thead th {\n",
              "        text-align: right;\n",
              "    }\n",
              "</style>\n",
              "<table border=\"1\" class=\"dataframe\">\n",
              "  <thead>\n",
              "    <tr style=\"text-align: right;\">\n",
              "      <th></th>\n",
              "      <th>spam</th>\n",
              "    </tr>\n",
              "  </thead>\n",
              "  <tbody>\n",
              "    <tr>\n",
              "      <th>count</th>\n",
              "      <td>5728.000000</td>\n",
              "    </tr>\n",
              "    <tr>\n",
              "      <th>mean</th>\n",
              "      <td>0.238827</td>\n",
              "    </tr>\n",
              "    <tr>\n",
              "      <th>std</th>\n",
              "      <td>0.426404</td>\n",
              "    </tr>\n",
              "    <tr>\n",
              "      <th>min</th>\n",
              "      <td>0.000000</td>\n",
              "    </tr>\n",
              "    <tr>\n",
              "      <th>25%</th>\n",
              "      <td>0.000000</td>\n",
              "    </tr>\n",
              "    <tr>\n",
              "      <th>50%</th>\n",
              "      <td>0.000000</td>\n",
              "    </tr>\n",
              "    <tr>\n",
              "      <th>75%</th>\n",
              "      <td>0.000000</td>\n",
              "    </tr>\n",
              "    <tr>\n",
              "      <th>max</th>\n",
              "      <td>1.000000</td>\n",
              "    </tr>\n",
              "  </tbody>\n",
              "</table>\n",
              "</div>\n",
              "      <button class=\"colab-df-convert\" onclick=\"convertToInteractive('df-669572c5-639b-4224-8e27-f9d67794a606')\"\n",
              "              title=\"Convert this dataframe to an interactive table.\"\n",
              "              style=\"display:none;\">\n",
              "        \n",
              "  <svg xmlns=\"http://www.w3.org/2000/svg\" height=\"24px\"viewBox=\"0 0 24 24\"\n",
              "       width=\"24px\">\n",
              "    <path d=\"M0 0h24v24H0V0z\" fill=\"none\"/>\n",
              "    <path d=\"M18.56 5.44l.94 2.06.94-2.06 2.06-.94-2.06-.94-.94-2.06-.94 2.06-2.06.94zm-11 1L8.5 8.5l.94-2.06 2.06-.94-2.06-.94L8.5 2.5l-.94 2.06-2.06.94zm10 10l.94 2.06.94-2.06 2.06-.94-2.06-.94-.94-2.06-.94 2.06-2.06.94z\"/><path d=\"M17.41 7.96l-1.37-1.37c-.4-.4-.92-.59-1.43-.59-.52 0-1.04.2-1.43.59L10.3 9.45l-7.72 7.72c-.78.78-.78 2.05 0 2.83L4 21.41c.39.39.9.59 1.41.59.51 0 1.02-.2 1.41-.59l7.78-7.78 2.81-2.81c.8-.78.8-2.07 0-2.86zM5.41 20L4 18.59l7.72-7.72 1.47 1.35L5.41 20z\"/>\n",
              "  </svg>\n",
              "      </button>\n",
              "      \n",
              "  <style>\n",
              "    .colab-df-container {\n",
              "      display:flex;\n",
              "      flex-wrap:wrap;\n",
              "      gap: 12px;\n",
              "    }\n",
              "\n",
              "    .colab-df-convert {\n",
              "      background-color: #E8F0FE;\n",
              "      border: none;\n",
              "      border-radius: 50%;\n",
              "      cursor: pointer;\n",
              "      display: none;\n",
              "      fill: #1967D2;\n",
              "      height: 32px;\n",
              "      padding: 0 0 0 0;\n",
              "      width: 32px;\n",
              "    }\n",
              "\n",
              "    .colab-df-convert:hover {\n",
              "      background-color: #E2EBFA;\n",
              "      box-shadow: 0px 1px 2px rgba(60, 64, 67, 0.3), 0px 1px 3px 1px rgba(60, 64, 67, 0.15);\n",
              "      fill: #174EA6;\n",
              "    }\n",
              "\n",
              "    [theme=dark] .colab-df-convert {\n",
              "      background-color: #3B4455;\n",
              "      fill: #D2E3FC;\n",
              "    }\n",
              "\n",
              "    [theme=dark] .colab-df-convert:hover {\n",
              "      background-color: #434B5C;\n",
              "      box-shadow: 0px 1px 3px 1px rgba(0, 0, 0, 0.15);\n",
              "      filter: drop-shadow(0px 1px 2px rgba(0, 0, 0, 0.3));\n",
              "      fill: #FFFFFF;\n",
              "    }\n",
              "  </style>\n",
              "\n",
              "      <script>\n",
              "        const buttonEl =\n",
              "          document.querySelector('#df-669572c5-639b-4224-8e27-f9d67794a606 button.colab-df-convert');\n",
              "        buttonEl.style.display =\n",
              "          google.colab.kernel.accessAllowed ? 'block' : 'none';\n",
              "\n",
              "        async function convertToInteractive(key) {\n",
              "          const element = document.querySelector('#df-669572c5-639b-4224-8e27-f9d67794a606');\n",
              "          const dataTable =\n",
              "            await google.colab.kernel.invokeFunction('convertToInteractive',\n",
              "                                                     [key], {});\n",
              "          if (!dataTable) return;\n",
              "\n",
              "          const docLinkHtml = 'Like what you see? Visit the ' +\n",
              "            '<a target=\"_blank\" href=https://colab.research.google.com/notebooks/data_table.ipynb>data table notebook</a>'\n",
              "            + ' to learn more about interactive tables.';\n",
              "          element.innerHTML = '';\n",
              "          dataTable['output_type'] = 'display_data';\n",
              "          await google.colab.output.renderOutput(dataTable, element);\n",
              "          const docLink = document.createElement('div');\n",
              "          docLink.innerHTML = docLinkHtml;\n",
              "          element.appendChild(docLink);\n",
              "        }\n",
              "      </script>\n",
              "    </div>\n",
              "  </div>\n",
              "  "
            ]
          },
          "metadata": {},
          "execution_count": 5
        }
      ]
    },
    {
      "cell_type": "code",
      "source": [
        "emails.info()"
      ],
      "metadata": {
        "colab": {
          "base_uri": "https://localhost:8080/"
        },
        "id": "iwrIPwJ3Xk83",
        "outputId": "1fb07020-f644-44c6-ee74-a52b411a1c37"
      },
      "execution_count": 6,
      "outputs": [
        {
          "output_type": "stream",
          "name": "stdout",
          "text": [
            "<class 'pandas.core.frame.DataFrame'>\n",
            "RangeIndex: 5728 entries, 0 to 5727\n",
            "Data columns (total 2 columns):\n",
            " #   Column  Non-Null Count  Dtype \n",
            "---  ------  --------------  ----- \n",
            " 0   text    5728 non-null   object\n",
            " 1   spam    5728 non-null   int64 \n",
            "dtypes: int64(1), object(1)\n",
            "memory usage: 89.6+ KB\n"
          ]
        }
      ]
    },
    {
      "cell_type": "code",
      "source": [
        "emails.shape"
      ],
      "metadata": {
        "colab": {
          "base_uri": "https://localhost:8080/"
        },
        "id": "4M_4njVwXnzU",
        "outputId": "65926ce5-215b-4832-8a98-2bd91e1782f5"
      },
      "execution_count": 7,
      "outputs": [
        {
          "output_type": "execute_result",
          "data": {
            "text/plain": [
              "(5728, 2)"
            ]
          },
          "metadata": {},
          "execution_count": 7
        }
      ]
    },
    {
      "cell_type": "markdown",
      "source": [
        "Hence there are 5728 mails in the dataset"
      ],
      "metadata": {
        "id": "qH6TpglxXuA6"
      }
    },
    {
      "cell_type": "code",
      "source": [
        "emails['spam'].value_counts()"
      ],
      "metadata": {
        "colab": {
          "base_uri": "https://localhost:8080/"
        },
        "id": "ZXaUIbRGXsyg",
        "outputId": "63ebf6be-0776-4b1f-cbc1-f26a9f8ef30e"
      },
      "execution_count": 8,
      "outputs": [
        {
          "output_type": "execute_result",
          "data": {
            "text/plain": [
              "0    4360\n",
              "1    1368\n",
              "Name: spam, dtype: int64"
            ]
          },
          "metadata": {},
          "execution_count": 8
        }
      ]
    },
    {
      "cell_type": "code",
      "source": [
        "labels = ['Spam', 'Ham']\n",
        "sizes = [747, 4825]\n",
        "custom_colours = ['#ff7675', '#74b9ff']\n",
        "\n",
        "plt.figure(figsize=(20, 6), dpi=227)\n",
        "plt.subplot(1, 2, 1)\n",
        "plt.pie(sizes, labels = labels, textprops={'fontsize': 15}, startangle=140, \n",
        "       autopct='%1.0f%%', colors=custom_colours, explode=[0, 0.05])\n",
        "\n",
        "plt.subplot(1, 2, 2)\n",
        "sns.barplot(x = emails['spam'].unique(), y = emails['spam'].value_counts(), palette= 'viridis')\n",
        "\n",
        "plt.show()"
      ],
      "metadata": {
        "colab": {
          "base_uri": "https://localhost:8080/",
          "height": 495
        },
        "id": "__jqutDTX6IU",
        "outputId": "3a0fef61-3a87-4b1d-d5b6-e241755cd75f"
      },
      "execution_count": 10,
      "outputs": [
        {
          "output_type": "display_data",
          "data": {
            "text/plain": [
              "<Figure size 4540x1362 with 2 Axes>"
            ],
            "image/png": "[encoded data removed]"
          },
          "metadata": {
            "needs_background": "light"
          }
        }
      ]
    },
    {
      "cell_type": "code",
      "source": [
        "emails['Total Words'] = emails['text'].apply(lambda x: len(x.split()))\n",
        "\n",
        "def count_total_words(text):\n",
        "    char = 0\n",
        "    for word in text.split():\n",
        "        char += len(word)\n",
        "    return char\n",
        "\n",
        "def count_chars(text):\n",
        "    \n",
        "    return len(text)\n",
        "\n",
        "\n",
        "emails['Total Chars']= emails['text'].apply(count_chars)"
      ],
      "metadata": {
        "id": "2HJ4PwDaX89_"
      },
      "execution_count": 11,
      "outputs": []
    },
    {
      "cell_type": "code",
      "source": [
        "emails.head()"
      ],
      "metadata": {
        "colab": {
          "base_uri": "https://localhost:8080/",
          "height": 206
        },
        "id": "JlOKf5c-YHhh",
        "outputId": "e9eb8688-005e-4830-f89d-ba96dad3e1f3"
      },
      "execution_count": 12,
      "outputs": [
        {
          "output_type": "execute_result",
          "data": {
            "text/plain": [
              "                                                text  spam  Total Words  \\\n",
              "0  Subject: naturally irresistible your corporate...     1          324   \n",
              "1  Subject: the stock trading gunslinger  fanny i...     1           89   \n",
              "2  Subject: unbelievable new homes made easy  im ...     1           87   \n",
              "3  Subject: 4 color printing special  request add...     1           98   \n",
              "4  Subject: do not have money , get software cds ...     1           52   \n",
              "\n",
              "   Total Chars  \n",
              "0         1484  \n",
              "1          598  \n",
              "2          448  \n",
              "3          500  \n",
              "4          235  "
            ],
            "text/html": [
              "\n",
              "  <div id=\"df-b8ff13ef-9304-4da7-a9f0-a9df9707e3ad\">\n",
              "    <div class=\"colab-df-container\">\n",
              "      <div>\n",
              "<style scoped>\n",
              "    .dataframe tbody tr th:only-of-type {\n",
              "        vertical-align: middle;\n",
              "    }\n",
              "\n",
              "    .dataframe tbody tr th {\n",
              "        vertical-align: top;\n",
              "    }\n",
              "\n",
              "    .dataframe thead th {\n",
              "        text-align: right;\n",
              "    }\n",
              "</style>\n",
              "<table border=\"1\" class=\"dataframe\">\n",
              "  <thead>\n",
              "    <tr style=\"text-align: right;\">\n",
              "      <th></th>\n",
              "      <th>text</th>\n",
              "      <th>spam</th>\n",
              "      <th>Total Words</th>\n",
              "      <th>Total Chars</th>\n",
              "    </tr>\n",
              "  </thead>\n",
              "  <tbody>\n",
              "    <tr>\n",
              "      <th>0</th>\n",
              "      <td>Subject: naturally irresistible your corporate...</td>\n",
              "      <td>1</td>\n",
              "      <td>324</td>\n",
              "      <td>1484</td>\n",
              "    </tr>\n",
              "    <tr>\n",
              "      <th>1</th>\n",
              "      <td>Subject: the stock trading gunslinger  fanny i...</td>\n",
              "      <td>1</td>\n",
              "      <td>89</td>\n",
              "      <td>598</td>\n",
              "    </tr>\n",
              "    <tr>\n",
              "      <th>2</th>\n",
              "      <td>Subject: unbelievable new homes made easy  im ...</td>\n",
              "      <td>1</td>\n",
              "      <td>87</td>\n",
              "      <td>448</td>\n",
              "    </tr>\n",
              "    <tr>\n",
              "      <th>3</th>\n",
              "      <td>Subject: 4 color printing special  request add...</td>\n",
              "      <td>1</td>\n",
              "      <td>98</td>\n",
              "      <td>500</td>\n",
              "    </tr>\n",
              "    <tr>\n",
              "      <th>4</th>\n",
              "      <td>Subject: do not have money , get software cds ...</td>\n",
              "      <td>1</td>\n",
              "      <td>52</td>\n",
              "      <td>235</td>\n",
              "    </tr>\n",
              "  </tbody>\n",
              "</table>\n",
              "</div>\n",
              "      <button class=\"colab-df-convert\" onclick=\"convertToInteractive('df-b8ff13ef-9304-4da7-a9f0-a9df9707e3ad')\"\n",
              "              title=\"Convert this dataframe to an interactive table.\"\n",
              "              style=\"display:none;\">\n",
              "        \n",
              "  <svg xmlns=\"http://www.w3.org/2000/svg\" height=\"24px\"viewBox=\"0 0 24 24\"\n",
              "       width=\"24px\">\n",
              "    <path d=\"M0 0h24v24H0V0z\" fill=\"none\"/>\n",
              "    <path d=\"M18.56 5.44l.94 2.06.94-2.06 2.06-.94-2.06-.94-.94-2.06-.94 2.06-2.06.94zm-11 1L8.5 8.5l.94-2.06 2.06-.94-2.06-.94L8.5 2.5l-.94 2.06-2.06.94zm10 10l.94 2.06.94-2.06 2.06-.94-2.06-.94-.94-2.06-.94 2.06-2.06.94z\"/><path d=\"M17.41 7.96l-1.37-1.37c-.4-.4-.92-.59-1.43-.59-.52 0-1.04.2-1.43.59L10.3 9.45l-7.72 7.72c-.78.78-.78 2.05 0 2.83L4 21.41c.39.39.9.59 1.41.59.51 0 1.02-.2 1.41-.59l7.78-7.78 2.81-2.81c.8-.78.8-2.07 0-2.86zM5.41 20L4 18.59l7.72-7.72 1.47 1.35L5.41 20z\"/>\n",
              "  </svg>\n",
              "      </button>\n",
              "      \n",
              "  <style>\n",
              "    .colab-df-container {\n",
              "      display:flex;\n",
              "      flex-wrap:wrap;\n",
              "      gap: 12px;\n",
              "    }\n",
              "\n",
              "    .colab-df-convert {\n",
              "      background-color: #E8F0FE;\n",
              "      border: none;\n",
              "      border-radius: 50%;\n",
              "      cursor: pointer;\n",
              "      display: none;\n",
              "      fill: #1967D2;\n",
              "      height: 32px;\n",
              "      padding: 0 0 0 0;\n",
              "      width: 32px;\n",
              "    }\n",
              "\n",
              "    .colab-df-convert:hover {\n",
              "      background-color: #E2EBFA;\n",
              "      box-shadow: 0px 1px 2px rgba(60, 64, 67, 0.3), 0px 1px 3px 1px rgba(60, 64, 67, 0.15);\n",
              "      fill: #174EA6;\n",
              "    }\n",
              "\n",
              "    [theme=dark] .colab-df-convert {\n",
              "      background-color: #3B4455;\n",
              "      fill: #D2E3FC;\n",
              "    }\n",
              "\n",
              "    [theme=dark] .colab-df-convert:hover {\n",
              "      background-color: #434B5C;\n",
              "      box-shadow: 0px 1px 3px 1px rgba(0, 0, 0, 0.15);\n",
              "      filter: drop-shadow(0px 1px 2px rgba(0, 0, 0, 0.3));\n",
              "      fill: #FFFFFF;\n",
              "    }\n",
              "  </style>\n",
              "\n",
              "      <script>\n",
              "        const buttonEl =\n",
              "          document.querySelector('#df-b8ff13ef-9304-4da7-a9f0-a9df9707e3ad button.colab-df-convert');\n",
              "        buttonEl.style.display =\n",
              "          google.colab.kernel.accessAllowed ? 'block' : 'none';\n",
              "\n",
              "        async function convertToInteractive(key) {\n",
              "          const element = document.querySelector('#df-b8ff13ef-9304-4da7-a9f0-a9df9707e3ad');\n",
              "          const dataTable =\n",
              "            await google.colab.kernel.invokeFunction('convertToInteractive',\n",
              "                                                     [key], {});\n",
              "          if (!dataTable) return;\n",
              "\n",
              "          const docLinkHtml = 'Like what you see? Visit the ' +\n",
              "            '<a target=\"_blank\" href=https://colab.research.google.com/notebooks/data_table.ipynb>data table notebook</a>'\n",
              "            + ' to learn more about interactive tables.';\n",
              "          element.innerHTML = '';\n",
              "          dataTable['output_type'] = 'display_data';\n",
              "          await google.colab.output.renderOutput(dataTable, element);\n",
              "          const docLink = document.createElement('div');\n",
              "          docLink.innerHTML = docLinkHtml;\n",
              "          element.appendChild(docLink);\n",
              "        }\n",
              "      </script>\n",
              "    </div>\n",
              "  </div>\n",
              "  "
            ]
          },
          "metadata": {},
          "execution_count": 12
        }
      ]
    },
    {
      "cell_type": "code",
      "source": [
        "maxval = emails['Total Chars'].max()\n",
        "\n",
        " \n",
        " \n",
        "print(\"Maximum Characters: \")\n",
        "print(maxval)"
      ],
      "metadata": {
        "colab": {
          "base_uri": "https://localhost:8080/"
        },
        "id": "YdaN0S40YKmH",
        "outputId": "3f8ee492-c9f9-4b9b-945b-fce693d1078e"
      },
      "execution_count": 13,
      "outputs": [
        {
          "output_type": "stream",
          "name": "stdout",
          "text": [
            "Maximum Characters: \n",
            "43952\n"
          ]
        }
      ]
    },
    {
      "cell_type": "code",
      "source": [
        "all_spam_words = []\n",
        "for sentence in emails[emails['spam'] == 1]['text'].to_list():\n",
        "    for word in sentence.split():\n",
        "        all_spam_words.append(word)\n",
        "\n",
        "df = pd.DataFrame(Counter(all_spam_words).most_common(25), columns= ['Word', 'Frequency'])\n",
        "\n",
        "sns.set_context('notebook', font_scale= 1.3)\n",
        "plt.figure(figsize=(18,8))\n",
        "sns.barplot(y = df['Word'], x= df['Frequency'], palette= 'summer')\n",
        "plt.title(\"Most Commonly Used Spam Words\")\n",
        "plt.xlabel(\"Frequency\")\n",
        "plt.ylabel(\"Spam Words\")\n",
        "plt.show()"
      ],
      "metadata": {
        "colab": {
          "base_uri": "https://localhost:8080/",
          "height": 526
        },
        "id": "VI90zAXfYSp7",
        "outputId": "97b298a4-afbf-4d84-f478-3694d9b6b6e0"
      },
      "execution_count": 14,
      "outputs": [
        {
          "output_type": "display_data",
          "data": {
            "text/plain": [
              "<Figure size 1296x576 with 1 Axes>"
            ],
            "image/png": "[encoded data removed]"
          },
          "metadata": {
            "needs_background": "light"
          }
        }
      ]
    },
    {
      "cell_type": "code",
      "source": [
        "all_ham_words = []\n",
        "for sentence in emails[emails['spam'] == 0]['text'].to_list():\n",
        "    for word in sentence.split():\n",
        "        all_ham_words.append(word)\n",
        "\n",
        "df = pd.DataFrame(Counter(all_ham_words).most_common(25), columns= ['Word', 'Frequency'])\n",
        "\n",
        "sns.set_context('notebook', font_scale= 1.3)\n",
        "plt.figure(figsize=(18,8))\n",
        "sns.barplot(y = df['Word'], x= df['Frequency'], palette= 'summer')\n",
        "plt.title(\"Most Commonly Used Ham Words\")\n",
        "plt.xlabel(\"Frequnecy\")\n",
        "plt.ylabel(\"Ham Words\")\n",
        "plt.show()"
      ],
      "metadata": {
        "colab": {
          "base_uri": "https://localhost:8080/",
          "height": 526
        },
        "id": "UKRPGi4VYYry",
        "outputId": "62a8b23a-1d3e-451a-f19f-416b8046493e"
      },
      "execution_count": 15,
      "outputs": [
        {
          "output_type": "display_data",
          "data": {
            "text/plain": [
              "<Figure size 1296x576 with 1 Axes>"
            ],
            "image/png": "[encoded data removed]"
          },
          "metadata": {
            "needs_background": "light"
          }
        }
      ]
    },
    {
      "cell_type": "markdown",
      "source": [
        "# Building Model"
      ],
      "metadata": {
        "id": "EmvFO3ISYl-e"
      }
    },
    {
      "cell_type": "code",
      "source": [
        "import nltk\n",
        "\n",
        "nltk.download('stopwords')"
      ],
      "metadata": {
        "colab": {
          "base_uri": "https://localhost:8080/"
        },
        "id": "iRJproSAYkfo",
        "outputId": "4368d605-bce1-4299-daff-e405d93b52be"
      },
      "execution_count": 17,
      "outputs": [
        {
          "output_type": "stream",
          "name": "stderr",
          "text": [
            "[nltk_data] Downloading package stopwords to /root/nltk_data...\n",
            "[nltk_data]   Unzipping corpora/stopwords.zip.\n"
          ]
        },
        {
          "output_type": "execute_result",
          "data": {
            "text/plain": [
              "True"
            ]
          },
          "metadata": {},
          "execution_count": 17
        }
      ]
    },
    {
      "cell_type": "code",
      "source": [
        "emails['text'] = emails['text'].apply(lambda x: ' '.join(x.split(' ')[1:]))"
      ],
      "metadata": {
        "id": "ewHCbPCvYsQ_"
      },
      "execution_count": 18,
      "outputs": []
    },
    {
      "cell_type": "code",
      "source": [
        "import re\n",
        "import nltk\n",
        "from nltk.corpus import stopwords\n",
        "from nltk.stem.porter import PorterStemmer\n",
        "#Every mail starts with 'Subject :' will remove this from each text \n",
        "\n",
        "emails['text']=emails['text'].map(lambda text: text[1:])\n",
        "emails['text'] = emails['text'].map(lambda text:re.sub('[^a-zA-Z0-9]+', ' ',text)).apply(lambda x: (x.lower()).split())\n",
        "ps = PorterStemmer()\n",
        "corpus=emails['text'].apply(lambda text_list:' '.join(list(map(lambda word:ps.stem(word),(list(filter(lambda text:text not in set(stopwords.words('english')),text_list)))))))\n",
        "\n",
        "# Creating the Bag of Words model"
      ],
      "metadata": {
        "id": "1KApL32qYyeW"
      },
      "execution_count": 19,
      "outputs": []
    },
    {
      "cell_type": "code",
      "source": [
        "emails['corpus']=corpus"
      ],
      "metadata": {
        "id": "rsbANPqWY82w"
      },
      "execution_count": 21,
      "outputs": []
    },
    {
      "cell_type": "code",
      "source": [
        "from nltk.corpus import stopwords\n",
        "\n",
        "# Make a list of english stopwords\n",
        "stopwords = nltk.corpus.stopwords.words(\"english\")\n",
        "\n",
        "print(len(stopwords))"
      ],
      "metadata": {
        "colab": {
          "base_uri": "https://localhost:8080/"
        },
        "id": "oKsVVr6EZyN3",
        "outputId": "75f9220b-b2cc-414d-a56c-91d838122664"
      },
      "execution_count": 22,
      "outputs": [
        {
          "output_type": "stream",
          "name": "stdout",
          "text": [
            "179\n"
          ]
        }
      ]
    },
    {
      "cell_type": "code",
      "source": [
        "print(corpus)"
      ],
      "metadata": {
        "colab": {
          "base_uri": "https://localhost:8080/"
        },
        "id": "a2v2cfFkZ2Lm",
        "outputId": "5a74f530-b80c-4874-8c14-4aa92a368295"
      },
      "execution_count": 23,
      "outputs": [
        {
          "output_type": "stream",
          "name": "stdout",
          "text": [
            "0       atur irresist corpor ident lt realli hard reco...\n",
            "1       stock trade gunsling fanni merril muzo colza a...\n",
            "2       nbeliev new home made easi im want show homeow...\n",
            "3       color print special request addit inform click...\n",
            "4       money get softwar cd softwar compat great grow...\n",
            "                              ...                        \n",
            "5723    e research develop charg gpg forward shirley c...\n",
            "5724    e receipt visit jim thank invit visit lsu shir...\n",
            "5725    e enron case studi updat wow day super thank m...\n",
            "5726    e interest david pleas call shirley crenshaw a...\n",
            "5727    ew aurora 5 2 updat aurora version 5 2 fastest...\n",
            "Name: text, Length: 5728, dtype: object\n"
          ]
        }
      ]
    },
    {
      "cell_type": "code",
      "source": [
        "count=0\n",
        "for i in range(5728):\n",
        "    count=count+len(corpus[i].split())\n",
        "print(count)"
      ],
      "metadata": {
        "colab": {
          "base_uri": "https://localhost:8080/"
        },
        "id": "kvu9HWxQZ5YD",
        "outputId": "a17bb838-49be-4d8b-9cdd-0c543a10145d"
      },
      "execution_count": 24,
      "outputs": [
        {
          "output_type": "stream",
          "name": "stdout",
          "text": [
            "878314\n"
          ]
        }
      ]
    },
    {
      "cell_type": "code",
      "source": [
        "from sklearn.feature_extraction.text import CountVectorizer\n",
        "cv = CountVectorizer()\n",
        "X = cv.fit_transform(corpus.values).toarray()\n",
        "y = emails.iloc[:, 1].values"
      ],
      "metadata": {
        "id": "UTsUyu4tZ9VK"
      },
      "execution_count": 25,
      "outputs": []
    },
    {
      "cell_type": "code",
      "source": [
        "from sklearn.model_selection import train_test_split\n",
        "from sklearn.tree import DecisionTreeClassifier\n",
        "X_train, X_test, y_train, y_test = train_test_split( \n",
        "          X, y, test_size = 0.3, random_state = 100)"
      ],
      "metadata": {
        "id": "WQkk5__VaFXx"
      },
      "execution_count": 29,
      "outputs": []
    },
    {
      "cell_type": "code",
      "source": [
        "spamCART = DecisionTreeClassifier()\n",
        "\n",
        "# Train Decision Tree Classifer\n",
        "spamCART = spamCART.fit(X_train,y_train)\n",
        "spamtrain=spamCART.predict(X_train)\n",
        "#Predict the response for test dataset\n",
        "y_pred =  spamCART.predict(X_test)"
      ],
      "metadata": {
        "id": "Kw8qwGT9aLbA"
      },
      "execution_count": 30,
      "outputs": []
    },
    {
      "cell_type": "code",
      "source": [
        "#CART train metrics\n",
        "from sklearn.metrics import accuracy_score, precision_score, recall_score,f1_score\n",
        "\n",
        "print('Accuracy score: ', accuracy_score(y_train, spamtrain))\n",
        "print('Precision score: ', precision_score(y_train, spamtrain))\n",
        "print('Recall score: ', recall_score(y_train, spamtrain))\n",
        "print(\"F1 score: \",f1_score(y_train,spamtrain))"
      ],
      "metadata": {
        "colab": {
          "base_uri": "https://localhost:8080/"
        },
        "id": "Fv8frxpYaOhL",
        "outputId": "23230b30-e290-41ef-b5f9-4fe4b826353f"
      },
      "execution_count": 31,
      "outputs": [
        {
          "output_type": "stream",
          "name": "stdout",
          "text": [
            "Accuracy score:  1.0\n",
            "Precision score:  1.0\n",
            "Recall score:  1.0\n",
            "F1 score:  1.0\n"
          ]
        }
      ]
    },
    {
      "cell_type": "code",
      "source": [
        "from sklearn.ensemble import RandomForestClassifier\n",
        "  \n",
        " # create regressor object\n",
        "spamRF = RandomForestClassifier(n_estimators = 100, random_state = 0)\n",
        "  \n",
        "# fit the regressor with x and y data\n",
        "spamRF=spamRF.fit(X_train,y_train)  \n",
        "spamRFtrain=spamRF.predict(X_train)"
      ],
      "metadata": {
        "id": "dBQP3oYzaWwb"
      },
      "execution_count": 32,
      "outputs": []
    },
    {
      "cell_type": "code",
      "source": [
        "y_pred1 = spamRF.predict(X_test)"
      ],
      "metadata": {
        "id": "k7CZuv0zavpT"
      },
      "execution_count": 33,
      "outputs": []
    },
    {
      "cell_type": "code",
      "source": [
        "#train accuracy for Spam RF\n",
        "\n",
        "from sklearn.metrics import accuracy_score, precision_score, recall_score,f1_score\n",
        "\n",
        "print('Accuracy score: ', accuracy_score(y_train, spamRFtrain))\n",
        "print('Precision score: ', precision_score(y_train, spamRFtrain))\n",
        "print('Recall score: ', recall_score(y_train, spamRFtrain))\n",
        "print(\"F1 score: \",f1_score(y_train,spamRFtrain))"
      ],
      "metadata": {
        "colab": {
          "base_uri": "https://localhost:8080/"
        },
        "id": "Pk2Eanpta2VW",
        "outputId": "9900ff3e-9453-4d9b-d081-f608f396bda3"
      },
      "execution_count": 34,
      "outputs": [
        {
          "output_type": "stream",
          "name": "stdout",
          "text": [
            "Accuracy score:  1.0\n",
            "Precision score:  1.0\n",
            "Recall score:  1.0\n",
            "F1 score:  1.0\n"
          ]
        }
      ]
    },
    {
      "cell_type": "code",
      "source": [
        "from sklearn import metrics\n",
        "import numpy as np\n",
        "import matplotlib.pyplot as plt\n",
        "fpr, tpr, _ = metrics.roc_curve(y_train,  spamtrain)\n",
        "auc = round(metrics.roc_auc_score(y_train,  spamtrain), 4)\n",
        "plt.plot(fpr,tpr,label=\"CART, AUC=\"+str(auc))\n",
        "\n",
        "fpr, tpr, _ = metrics.roc_curve(y_train, spamRFtrain)\n",
        "auc = round(metrics.roc_auc_score(y_train, spamRFtrain), 4)\n",
        "plt.plot(fpr,tpr,label=\"Random Forest, AUC=\"+str(auc))\n",
        "\n",
        "#add legend\n",
        "plt.legend()"
      ],
      "metadata": {
        "colab": {
          "base_uri": "https://localhost:8080/",
          "height": 289
        },
        "id": "eBel0zdha6qd",
        "outputId": "b13a2efd-b74e-4f2f-b124-02ca1ab9a565"
      },
      "execution_count": 35,
      "outputs": [
        {
          "output_type": "execute_result",
          "data": {
            "text/plain": [
              "<matplotlib.legend.Legend at 0x7faec6517590>"
            ]
          },
          "metadata": {},
          "execution_count": 35
        },
        {
          "output_type": "display_data",
          "data": {
            "text/plain": [
              "<Figure size 432x288 with 1 Axes>"
            ],
            "image/png": "[encoded data removed]"
          },
          "metadata": {
            "needs_background": "light"
          }
        }
      ]
    },
    {
      "cell_type": "code",
      "source": [
        "from sklearn import tree\n",
        "tree.plot_tree(spamCART)"
      ],
      "metadata": {
        "colab": {
          "base_uri": "https://localhost:8080/",
          "height": 1000
        },
        "id": "sEQVy04_a_63",
        "outputId": "b10e54c6-8e11-4181-b52f-56433f935206"
      },
      "execution_count": 36,
      "outputs": [
        {
          "output_type": "execute_result",
          "data": {
            "text/plain": [
              "[Text(0.9112654320987654, 0.9925373134328358, 'X[28407] <= 0.5\\ngini = 0.357\\nsamples = 4009\\nvalue = [3075, 934]'),\n",
              " Text(0.9030349794238683, 0.9776119402985075, 'X[10912] <= 0.5\\ngini = 0.494\\nsamples = 2097\\nvalue = [1163, 934]'),\n",
              " Text(0.8948045267489712, 0.9626865671641791, 'X[5133] <= 0.5\\ngini = 0.481\\nsamples = 1566\\nvalue = [632, 934]'),\n",
              " Text(0.8060699588477366, 0.9477611940298507, 'X[26664] <= 0.5\\ngini = 0.453\\nsamples = 1409\\nvalue = [489, 920]'),\n",
              " Text(0.7129629629629629, 0.9328358208955224, 'X[18335] <= 0.5\\ngini = 0.393\\nsamples = 1142\\nvalue = [307, 835]'),\n",
              " Text(0.6522633744855967, 0.917910447761194, 'X[902] <= 0.5\\ngini = 0.357\\nsamples = 1076\\nvalue = [250, 826]'),\n",
              " Text(0.6172839506172839, 0.9029850746268657, 'X[10839] <= 0.5\\ngini = 0.316\\nsamples = 1011\\nvalue = [199, 812]'),\n",
              " Text(0.5967078189300411, 0.8880597014925373, 'X[26344] <= 0.5\\ngini = 0.287\\nsamples = 974\\nvalue = [169, 805]'),\n",
              " Text(0.588477366255144, 0.8731343283582089, 'X[2774] <= 0.5\\ngini = 0.27\\nsamples = 959\\nvalue = [154, 805]'),\n",
              " Text(0.5802469135802469, 0.8582089552238806, 'X[10451] <= 0.5\\ngini = 0.251\\nsamples = 944\\nvalue = [139, 805]'),\n",
              " Text(0.5637860082304527, 0.8432835820895522, 'X[25668] <= 0.5\\ngini = 0.234\\nsamples = 930\\nvalue = [126, 804]'),\n",
              " Text(0.5555555555555556, 0.8283582089552238, 'X[8811] <= 0.5\\ngini = 0.223\\nsamples = 922\\nvalue = [118, 804]'),\n",
              " Text(0.5473251028806584, 0.8134328358208955, 'X[20623] <= 0.5\\ngini = 0.215\\nsamples = 916\\nvalue = [112, 804]'),\n",
              " Text(0.5308641975308642, 0.7985074626865671, 'X[21203] <= 0.5\\ngini = 0.201\\nsamples = 900\\nvalue = [102, 798]'),\n",
              " Text(0.522633744855967, 0.7835820895522388, 'X[19209] <= 0.5\\ngini = 0.193\\nsamples = 895\\nvalue = [97, 798]'),\n",
              " Text(0.51440329218107, 0.7686567164179104, 'X[17852] <= 1.5\\ngini = 0.185\\nsamples = 890\\nvalue = [92, 798]'),\n",
              " Text(0.49794238683127573, 0.753731343283582, 'X[15447] <= 0.5\\ngini = 0.175\\nsamples = 880\\nvalue = [85, 795]'),\n",
              " Text(0.4897119341563786, 0.7388059701492538, 'X[4248] <= 0.5\\ngini = 0.168\\nsamples = 876\\nvalue = [81, 795]'),\n",
              " Text(0.48148148148148145, 0.7238805970149254, 'X[29813] <= 0.5\\ngini = 0.161\\nsamples = 872\\nvalue = [77, 795]'),\n",
              " Text(0.4732510288065844, 0.7089552238805971, 'X[18139] <= 0.5\\ngini = 0.154\\nsamples = 868\\nvalue = [73, 795]'),\n",
              " Text(0.46502057613168724, 0.6940298507462687, 'X[4426] <= 0.5\\ngini = 0.147\\nsamples = 864\\nvalue = [69, 795]'),\n",
              " Text(0.4567901234567901, 0.6791044776119403, 'X[19456] <= 0.5\\ngini = 0.142\\nsamples = 861\\nvalue = [66, 795]'),\n",
              " Text(0.448559670781893, 0.664179104477612, 'X[25636] <= 0.5\\ngini = 0.136\\nsamples = 858\\nvalue = [63, 795]'),\n",
              " Text(0.4176954732510288, 0.6492537313432836, 'X[8197] <= 0.5\\ngini = 0.126\\nsamples = 847\\nvalue = [57, 790]'),\n",
              " Text(0.39711934156378603, 0.6343283582089553, 'X[15880] <= 0.5\\ngini = 0.116\\nsamples = 839\\nvalue = [52, 787]'),\n",
              " Text(0.38065843621399176, 0.6194029850746269, 'X[22964] <= 0.5\\ngini = 0.11\\nsamples = 835\\nvalue = [49, 786]'),\n",
              " Text(0.3724279835390947, 0.6044776119402985, 'X[13931] <= 1.5\\ngini = 0.106\\nsamples = 833\\nvalue = [47, 786]'),\n",
              " Text(0.36419753086419754, 0.5895522388059702, 'X[15727] <= 0.5\\ngini = 0.102\\nsamples = 831\\nvalue = [45, 786]'),\n",
              " Text(0.3559670781893004, 0.5746268656716418, 'X[28792] <= 0.5\\ngini = 0.098\\nsamples = 829\\nvalue = [43, 786]'),\n",
              " Text(0.3477366255144033, 0.5597014925373134, 'X[28840] <= 0.5\\ngini = 0.094\\nsamples = 827\\nvalue = [41, 786]'),\n",
              " Text(0.3395061728395062, 0.5447761194029851, 'X[11162] <= 0.5\\ngini = 0.09\\nsamples = 825\\nvalue = [39, 786]'),\n",
              " Text(0.33127572016460904, 0.5298507462686567, 'X[10335] <= 0.5\\ngini = 0.086\\nsamples = 823\\nvalue = [37, 786]'),\n",
              " Text(0.30864197530864196, 0.5149253731343284, 'X[5363] <= 0.5\\ngini = 0.082\\nsamples = 820\\nvalue = [35, 785]'),\n",
              " Text(0.2880658436213992, 0.5, 'X[3042] <= 1.5\\ngini = 0.078\\nsamples = 817\\nvalue = [33, 784]'),\n",
              " Text(0.2716049382716049, 0.48507462686567165, 'X[4210] <= 0.5\\ngini = 0.073\\nsamples = 814\\nvalue = [31, 783]'),\n",
              " Text(0.26337448559670784, 0.4701492537313433, 'X[27926] <= 0.5\\ngini = 0.071\\nsamples = 813\\nvalue = [30, 783]'),\n",
              " Text(0.2551440329218107, 0.4552238805970149, 'X[19396] <= 0.5\\ngini = 0.069\\nsamples = 812\\nvalue = [29, 783]'),\n",
              " Text(0.24691358024691357, 0.44029850746268656, 'X[20546] <= 1.5\\ngini = 0.067\\nsamples = 811\\nvalue = [28, 783]'),\n",
              " Text(0.23868312757201646, 0.4253731343283582, 'X[24934] <= 1.0\\ngini = 0.064\\nsamples = 810\\nvalue = [27, 783]'),\n",
              " Text(0.23045267489711935, 0.41044776119402987, 'X[22450] <= 0.5\\ngini = 0.062\\nsamples = 809\\nvalue = [26, 783]'),\n",
              " Text(0.2222222222222222, 0.39552238805970147, 'X[6098] <= 0.5\\ngini = 0.06\\nsamples = 808\\nvalue = [25, 783]'),\n",
              " Text(0.2139917695473251, 0.3805970149253731, 'X[16568] <= 0.5\\ngini = 0.058\\nsamples = 807\\nvalue = [24, 783]'),\n",
              " Text(0.205761316872428, 0.3656716417910448, 'X[4698] <= 0.5\\ngini = 0.055\\nsamples = 806\\nvalue = [23, 783]'),\n",
              " Text(0.19753086419753085, 0.35074626865671643, 'X[20339] <= 0.5\\ngini = 0.053\\nsamples = 805\\nvalue = [22, 783]'),\n",
              " Text(0.18930041152263374, 0.3358208955223881, 'X[10482] <= 0.5\\ngini = 0.051\\nsamples = 804\\nvalue = [21, 783]'),\n",
              " Text(0.18106995884773663, 0.3208955223880597, 'X[2546] <= 0.5\\ngini = 0.049\\nsamples = 803\\nvalue = [20, 783]'),\n",
              " Text(0.1728395061728395, 0.30597014925373134, 'X[25376] <= 1.5\\ngini = 0.046\\nsamples = 802\\nvalue = [19, 783]'),\n",
              " Text(0.1646090534979424, 0.291044776119403, 'X[9985] <= 1.5\\ngini = 0.044\\nsamples = 801\\nvalue = [18, 783]'),\n",
              " Text(0.15637860082304528, 0.27611940298507465, 'X[10596] <= 0.5\\ngini = 0.042\\nsamples = 800\\nvalue = [17, 783]'),\n",
              " Text(0.14814814814814814, 0.26119402985074625, 'X[10053] <= 0.5\\ngini = 0.039\\nsamples = 799\\nvalue = [16, 783]'),\n",
              " Text(0.13991769547325103, 0.2462686567164179, 'X[24465] <= 0.5\\ngini = 0.037\\nsamples = 798\\nvalue = [15, 783]'),\n",
              " Text(0.13168724279835392, 0.23134328358208955, 'X[29680] <= 0.5\\ngini = 0.035\\nsamples = 797\\nvalue = [14, 783]'),\n",
              " Text(0.12345679012345678, 0.21641791044776118, 'X[8407] <= 0.5\\ngini = 0.032\\nsamples = 796\\nvalue = [13, 783]'),\n",
              " Text(0.11522633744855967, 0.20149253731343283, 'X[29483] <= 1.0\\ngini = 0.03\\nsamples = 795\\nvalue = [12, 783]'),\n",
              " Text(0.10699588477366255, 0.1865671641791045, 'X[7334] <= 0.5\\ngini = 0.027\\nsamples = 794\\nvalue = [11, 783]'),\n",
              " Text(0.09876543209876543, 0.17164179104477612, 'X[8125] <= 0.5\\ngini = 0.025\\nsamples = 793\\nvalue = [10, 783]'),\n",
              " Text(0.09053497942386832, 0.15671641791044777, 'X[13044] <= 2.0\\ngini = 0.022\\nsamples = 792\\nvalue = [9, 783]'),\n",
              " Text(0.0823045267489712, 0.1417910447761194, 'X[6932] <= 0.5\\ngini = 0.02\\nsamples = 791\\nvalue = [8, 783]'),\n",
              " Text(0.07407407407407407, 0.12686567164179105, 'X[10360] <= 0.5\\ngini = 0.018\\nsamples = 790\\nvalue = [7, 783]'),\n",
              " Text(0.06584362139917696, 0.11194029850746269, 'X[25877] <= 2.0\\ngini = 0.015\\nsamples = 789\\nvalue = [6, 783]'),\n",
              " Text(0.05761316872427984, 0.09701492537313433, 'X[25273] <= 0.5\\ngini = 0.013\\nsamples = 788\\nvalue = [5, 783]'),\n",
              " Text(0.04938271604938271, 0.08208955223880597, 'X[29015] <= 0.5\\ngini = 0.01\\nsamples = 787\\nvalue = [4, 783]'),\n",
              " Text(0.0411522633744856, 0.06716417910447761, 'X[5191] <= 0.5\\ngini = 0.008\\nsamples = 786\\nvalue = [3, 783]'),\n",
              " Text(0.03292181069958848, 0.05223880597014925, 'X[29595] <= 0.5\\ngini = 0.005\\nsamples = 785\\nvalue = [2, 783]'),\n",
              " Text(0.01646090534979424, 0.03731343283582089, 'X[19925] <= 0.5\\ngini = 0.003\\nsamples = 783\\nvalue = [1, 782]'),\n",
              " Text(0.00823045267489712, 0.022388059701492536, 'gini = 0.0\\nsamples = 779\\nvalue = [0, 779]'),\n",
              " Text(0.024691358024691357, 0.022388059701492536, 'X[24707] <= 0.5\\ngini = 0.375\\nsamples = 4\\nvalue = [1, 3]'),\n",
              " Text(0.01646090534979424, 0.007462686567164179, 'gini = 0.0\\nsamples = 1\\nvalue = [1, 0]'),\n",
              " Text(0.03292181069958848, 0.007462686567164179, 'gini = 0.0\\nsamples = 3\\nvalue = [0, 3]'),\n",
              " Text(0.04938271604938271, 0.03731343283582089, 'X[15943] <= 0.5\\ngini = 0.5\\nsamples = 2\\nvalue = [1, 1]'),\n",
              " Text(0.0411522633744856, 0.022388059701492536, 'gini = 0.0\\nsamples = 1\\nvalue = [1, 0]'),\n",
              " Text(0.05761316872427984, 0.022388059701492536, 'gini = 0.0\\nsamples = 1\\nvalue = [0, 1]'),\n",
              " Text(0.04938271604938271, 0.05223880597014925, 'gini = 0.0\\nsamples = 1\\nvalue = [1, 0]'),\n",
              " Text(0.05761316872427984, 0.06716417910447761, 'gini = 0.0\\nsamples = 1\\nvalue = [1, 0]'),\n",
              " Text(0.06584362139917696, 0.08208955223880597, 'gini = 0.0\\nsamples = 1\\nvalue = [1, 0]'),\n",
              " Text(0.07407407407407407, 0.09701492537313433, 'gini = 0.0\\nsamples = 1\\nvalue = [1, 0]'),\n",
              " Text(0.0823045267489712, 0.11194029850746269, 'gini = 0.0\\nsamples = 1\\nvalue = [1, 0]'),\n",
              " Text(0.09053497942386832, 0.12686567164179105, 'gini = 0.0\\nsamples = 1\\nvalue = [1, 0]'),\n",
              " Text(0.09876543209876543, 0.1417910447761194, 'gini = 0.0\\nsamples = 1\\nvalue = [1, 0]'),\n",
              " Text(0.10699588477366255, 0.15671641791044777, 'gini = 0.0\\nsamples = 1\\nvalue = [1, 0]'),\n",
              " Text(0.11522633744855967, 0.17164179104477612, 'gini = 0.0\\nsamples = 1\\nvalue = [1, 0]'),\n",
              " Text(0.12345679012345678, 0.1865671641791045, 'gini = 0.0\\nsamples = 1\\nvalue = [1, 0]'),\n",
              " Text(0.13168724279835392, 0.20149253731343283, 'gini = 0.0\\nsamples = 1\\nvalue = [1, 0]'),\n",
              " Text(0.13991769547325103, 0.21641791044776118, 'gini = 0.0\\nsamples = 1\\nvalue = [1, 0]'),\n",
              " Text(0.14814814814814814, 0.23134328358208955, 'gini = 0.0\\nsamples = 1\\nvalue = [1, 0]'),\n",
              " Text(0.15637860082304528, 0.2462686567164179, 'gini = 0.0\\nsamples = 1\\nvalue = [1, 0]'),\n",
              " Text(0.1646090534979424, 0.26119402985074625, 'gini = 0.0\\nsamples = 1\\nvalue = [1, 0]'),\n",
              " Text(0.1728395061728395, 0.27611940298507465, 'gini = 0.0\\nsamples = 1\\nvalue = [1, 0]'),\n",
              " Text(0.18106995884773663, 0.291044776119403, 'gini = 0.0\\nsamples = 1\\nvalue = [1, 0]'),\n",
              " Text(0.18930041152263374, 0.30597014925373134, 'gini = 0.0\\nsamples = 1\\nvalue = [1, 0]'),\n",
              " Text(0.19753086419753085, 0.3208955223880597, 'gini = 0.0\\nsamples = 1\\nvalue = [1, 0]'),\n",
              " Text(0.205761316872428, 0.3358208955223881, 'gini = 0.0\\nsamples = 1\\nvalue = [1, 0]'),\n",
              " Text(0.2139917695473251, 0.35074626865671643, 'gini = 0.0\\nsamples = 1\\nvalue = [1, 0]'),\n",
              " Text(0.2222222222222222, 0.3656716417910448, 'gini = 0.0\\nsamples = 1\\nvalue = [1, 0]'),\n",
              " Text(0.23045267489711935, 0.3805970149253731, 'gini = 0.0\\nsamples = 1\\nvalue = [1, 0]'),\n",
              " Text(0.23868312757201646, 0.39552238805970147, 'gini = 0.0\\nsamples = 1\\nvalue = [1, 0]'),\n",
              " Text(0.24691358024691357, 0.41044776119402987, 'gini = 0.0\\nsamples = 1\\nvalue = [1, 0]'),\n",
              " Text(0.2551440329218107, 0.4253731343283582, 'gini = 0.0\\nsamples = 1\\nvalue = [1, 0]'),\n",
              " Text(0.26337448559670784, 0.44029850746268656, 'gini = 0.0\\nsamples = 1\\nvalue = [1, 0]'),\n",
              " Text(0.2716049382716049, 0.4552238805970149, 'gini = 0.0\\nsamples = 1\\nvalue = [1, 0]'),\n",
              " Text(0.27983539094650206, 0.4701492537313433, 'gini = 0.0\\nsamples = 1\\nvalue = [1, 0]'),\n",
              " Text(0.3045267489711934, 0.48507462686567165, 'X[11397] <= 0.5\\ngini = 0.444\\nsamples = 3\\nvalue = [2, 1]'),\n",
              " Text(0.2962962962962963, 0.4701492537313433, 'gini = 0.0\\nsamples = 2\\nvalue = [2, 0]'),\n",
              " Text(0.31275720164609055, 0.4701492537313433, 'gini = 0.0\\nsamples = 1\\nvalue = [0, 1]'),\n",
              " Text(0.3292181069958848, 0.5, 'X[11892] <= 1.0\\ngini = 0.444\\nsamples = 3\\nvalue = [2, 1]'),\n",
              " Text(0.32098765432098764, 0.48507462686567165, 'gini = 0.0\\nsamples = 2\\nvalue = [2, 0]'),\n",
              " Text(0.3374485596707819, 0.48507462686567165, 'gini = 0.0\\nsamples = 1\\nvalue = [0, 1]'),\n",
              " Text(0.35390946502057613, 0.5149253731343284, 'X[2359] <= 5.0\\ngini = 0.444\\nsamples = 3\\nvalue = [2, 1]'),\n",
              " Text(0.345679012345679, 0.5, 'gini = 0.0\\nsamples = 2\\nvalue = [2, 0]'),\n",
              " Text(0.36213991769547327, 0.5, 'gini = 0.0\\nsamples = 1\\nvalue = [0, 1]'),\n",
              " Text(0.3477366255144033, 0.5298507462686567, 'gini = 0.0\\nsamples = 2\\nvalue = [2, 0]'),\n",
              " Text(0.3559670781893004, 0.5447761194029851, 'gini = 0.0\\nsamples = 2\\nvalue = [2, 0]'),\n",
              " Text(0.36419753086419754, 0.5597014925373134, 'gini = 0.0\\nsamples = 2\\nvalue = [2, 0]'),\n",
              " Text(0.3724279835390947, 0.5746268656716418, 'gini = 0.0\\nsamples = 2\\nvalue = [2, 0]'),\n",
              " Text(0.38065843621399176, 0.5895522388059702, 'gini = 0.0\\nsamples = 2\\nvalue = [2, 0]'),\n",
              " Text(0.3888888888888889, 0.6044776119402985, 'gini = 0.0\\nsamples = 2\\nvalue = [2, 0]'),\n",
              " Text(0.41358024691358025, 0.6194029850746269, 'X[11853] <= 1.0\\ngini = 0.375\\nsamples = 4\\nvalue = [3, 1]'),\n",
              " Text(0.4053497942386831, 0.6044776119402985, 'gini = 0.0\\nsamples = 3\\nvalue = [3, 0]'),\n",
              " Text(0.4218106995884774, 0.6044776119402985, 'gini = 0.0\\nsamples = 1\\nvalue = [0, 1]'),\n",
              " Text(0.4382716049382716, 0.6343283582089553, 'X[7731] <= 0.5\\ngini = 0.469\\nsamples = 8\\nvalue = [5, 3]'),\n",
              " Text(0.43004115226337447, 0.6194029850746269, 'gini = 0.0\\nsamples = 5\\nvalue = [5, 0]'),\n",
              " Text(0.44650205761316875, 0.6194029850746269, 'gini = 0.0\\nsamples = 3\\nvalue = [0, 3]'),\n",
              " Text(0.4794238683127572, 0.6492537313432836, 'X[22852] <= 0.5\\ngini = 0.496\\nsamples = 11\\nvalue = [6, 5]'),\n",
              " Text(0.4711934156378601, 0.6343283582089553, 'X[342] <= 1.5\\ngini = 0.245\\nsamples = 7\\nvalue = [6, 1]'),\n",
              " Text(0.46296296296296297, 0.6194029850746269, 'gini = 0.0\\nsamples = 6\\nvalue = [6, 0]'),\n",
              " Text(0.4794238683127572, 0.6194029850746269, 'gini = 0.0\\nsamples = 1\\nvalue = [0, 1]'),\n",
              " Text(0.4876543209876543, 0.6343283582089553, 'gini = 0.0\\nsamples = 4\\nvalue = [0, 4]'),\n",
              " Text(0.46502057613168724, 0.664179104477612, 'gini = 0.0\\nsamples = 3\\nvalue = [3, 0]'),\n",
              " Text(0.4732510288065844, 0.6791044776119403, 'gini = 0.0\\nsamples = 3\\nvalue = [3, 0]'),\n",
              " Text(0.48148148148148145, 0.6940298507462687, 'gini = 0.0\\nsamples = 4\\nvalue = [4, 0]'),\n",
              " Text(0.4897119341563786, 0.7089552238805971, 'gini = 0.0\\nsamples = 4\\nvalue = [4, 0]'),\n",
              " Text(0.49794238683127573, 0.7238805970149254, 'gini = 0.0\\nsamples = 4\\nvalue = [4, 0]'),\n",
              " Text(0.5061728395061729, 0.7388059701492538, 'gini = 0.0\\nsamples = 4\\nvalue = [4, 0]'),\n",
              " Text(0.5308641975308642, 0.753731343283582, 'X[7962] <= 0.5\\ngini = 0.42\\nsamples = 10\\nvalue = [7, 3]'),\n",
              " Text(0.522633744855967, 0.7388059701492538, 'gini = 0.0\\nsamples = 7\\nvalue = [7, 0]'),\n",
              " Text(0.5390946502057613, 0.7388059701492538, 'gini = 0.0\\nsamples = 3\\nvalue = [0, 3]'),\n",
              " Text(0.5308641975308642, 0.7686567164179104, 'gini = 0.0\\nsamples = 5\\nvalue = [5, 0]'),\n",
              " Text(0.5390946502057613, 0.7835820895522388, 'gini = 0.0\\nsamples = 5\\nvalue = [5, 0]'),\n",
              " Text(0.5637860082304527, 0.7985074626865671, 'X[12752] <= 0.5\\ngini = 0.469\\nsamples = 16\\nvalue = [10, 6]'),\n",
              " Text(0.5555555555555556, 0.7835820895522388, 'X[4864] <= 0.5\\ngini = 0.278\\nsamples = 12\\nvalue = [10, 2]'),\n",
              " Text(0.5473251028806584, 0.7686567164179104, 'gini = 0.0\\nsamples = 10\\nvalue = [10, 0]'),\n",
              " Text(0.5637860082304527, 0.7686567164179104, 'gini = 0.0\\nsamples = 2\\nvalue = [0, 2]'),\n",
              " Text(0.5720164609053497, 0.7835820895522388, 'gini = 0.0\\nsamples = 4\\nvalue = [0, 4]'),\n",
              " Text(0.5637860082304527, 0.8134328358208955, 'gini = 0.0\\nsamples = 6\\nvalue = [6, 0]'),\n",
              " Text(0.5720164609053497, 0.8283582089552238, 'gini = 0.0\\nsamples = 8\\nvalue = [8, 0]'),\n",
              " Text(0.5967078189300411, 0.8432835820895522, 'X[10651] <= 0.5\\ngini = 0.133\\nsamples = 14\\nvalue = [13, 1]'),\n",
              " Text(0.588477366255144, 0.8283582089552238, 'gini = 0.0\\nsamples = 13\\nvalue = [13, 0]'),\n",
              " Text(0.6049382716049383, 0.8283582089552238, 'gini = 0.0\\nsamples = 1\\nvalue = [0, 1]'),\n",
              " Text(0.5967078189300411, 0.8582089552238806, 'gini = 0.0\\nsamples = 15\\nvalue = [15, 0]'),\n",
              " Text(0.6049382716049383, 0.8731343283582089, 'gini = 0.0\\nsamples = 15\\nvalue = [15, 0]'),\n",
              " Text(0.6378600823045267, 0.8880597014925373, 'X[2889] <= 0.5\\ngini = 0.307\\nsamples = 37\\nvalue = [30, 7]'),\n",
              " Text(0.6296296296296297, 0.8731343283582089, 'X[22740] <= 3.0\\ngini = 0.208\\nsamples = 34\\nvalue = [30, 4]'),\n",
              " Text(0.6213991769547325, 0.8582089552238806, 'X[17319] <= 0.5\\ngini = 0.117\\nsamples = 32\\nvalue = [30, 2]'),\n",
              " Text(0.6131687242798354, 0.8432835820895522, 'gini = 0.0\\nsamples = 30\\nvalue = [30, 0]'),\n",
              " Text(0.6296296296296297, 0.8432835820895522, 'gini = 0.0\\nsamples = 2\\nvalue = [0, 2]'),\n",
              " Text(0.6378600823045267, 0.8582089552238806, 'gini = 0.0\\nsamples = 2\\nvalue = [0, 2]'),\n",
              " Text(0.6460905349794238, 0.8731343283582089, 'gini = 0.0\\nsamples = 3\\nvalue = [0, 3]'),\n",
              " Text(0.6872427983539094, 0.9029850746268657, 'X[19908] <= 0.5\\ngini = 0.338\\nsamples = 65\\nvalue = [51, 14]'),\n",
              " Text(0.6707818930041153, 0.8880597014925373, 'X[22974] <= 0.5\\ngini = 0.145\\nsamples = 51\\nvalue = [47, 4]'),\n",
              " Text(0.6625514403292181, 0.8731343283582089, 'gini = 0.0\\nsamples = 46\\nvalue = [46, 0]'),\n",
              " Text(0.6790123456790124, 0.8731343283582089, 'X[811] <= 0.5\\ngini = 0.32\\nsamples = 5\\nvalue = [1, 4]'),\n",
              " Text(0.6707818930041153, 0.8582089552238806, 'gini = 0.0\\nsamples = 4\\nvalue = [0, 4]'),\n",
              " Text(0.6872427983539094, 0.8582089552238806, 'gini = 0.0\\nsamples = 1\\nvalue = [1, 0]'),\n",
              " Text(0.7037037037037037, 0.8880597014925373, 'X[9039] <= 0.5\\ngini = 0.408\\nsamples = 14\\nvalue = [4, 10]'),\n",
              " Text(0.6954732510288066, 0.8731343283582089, 'gini = 0.0\\nsamples = 9\\nvalue = [0, 9]'),\n",
              " Text(0.7119341563786008, 0.8731343283582089, 'X[27030] <= 0.5\\ngini = 0.32\\nsamples = 5\\nvalue = [4, 1]'),\n",
              " Text(0.7037037037037037, 0.8582089552238806, 'gini = 0.0\\nsamples = 4\\nvalue = [4, 0]'),\n",
              " Text(0.720164609053498, 0.8582089552238806, 'gini = 0.0\\nsamples = 1\\nvalue = [0, 1]'),\n",
              " Text(0.7736625514403292, 0.917910447761194, 'X[12294] <= 0.5\\ngini = 0.236\\nsamples = 66\\nvalue = [57, 9]'),\n",
              " Text(0.7530864197530864, 0.9029850746268657, 'X[22974] <= 0.5\\ngini = 0.097\\nsamples = 59\\nvalue = [56, 3]'),\n",
              " Text(0.7366255144032922, 0.8880597014925373, 'X[18217] <= 0.5\\ngini = 0.035\\nsamples = 56\\nvalue = [55, 1]'),\n",
              " Text(0.7283950617283951, 0.8731343283582089, 'gini = 0.0\\nsamples = 55\\nvalue = [55, 0]'),\n",
              " Text(0.7448559670781894, 0.8731343283582089, 'gini = 0.0\\nsamples = 1\\nvalue = [0, 1]'),\n",
              " Text(0.7695473251028807, 0.8880597014925373, 'X[7207] <= 0.5\\ngini = 0.444\\nsamples = 3\\nvalue = [1, 2]'),\n",
              " Text(0.7613168724279835, 0.8731343283582089, 'gini = 0.0\\nsamples = 2\\nvalue = [0, 2]'),\n",
              " Text(0.7777777777777778, 0.8731343283582089, 'gini = 0.0\\nsamples = 1\\nvalue = [1, 0]'),\n",
              " Text(0.7942386831275721, 0.9029850746268657, 'X[13796] <= 0.5\\ngini = 0.245\\nsamples = 7\\nvalue = [1, 6]'),\n",
              " Text(0.7860082304526749, 0.8880597014925373, 'gini = 0.0\\nsamples = 6\\nvalue = [0, 6]'),\n",
              " Text(0.8024691358024691, 0.8880597014925373, 'gini = 0.0\\nsamples = 1\\nvalue = [1, 0]'),\n",
              " Text(0.8991769547325102, 0.9328358208955224, 'X[7949] <= 0.5\\ngini = 0.434\\nsamples = 267\\nvalue = [182, 85]'),\n",
              " Text(0.8641975308641975, 0.917910447761194, 'X[3762] <= 0.5\\ngini = 0.318\\nsamples = 202\\nvalue = [162, 40]'),\n",
              " Text(0.8353909465020576, 0.9029850746268657, 'X[29150] <= 0.5\\ngini = 0.236\\nsamples = 183\\nvalue = [158, 25]'),\n",
              " Text(0.8189300411522634, 0.8880597014925373, 'X[24427] <= 0.5\\ngini = 0.151\\nsamples = 170\\nvalue = [156, 14]'),\n",
              " Text(0.8106995884773662, 0.8731343283582089, 'X[12351] <= 0.5\\ngini = 0.113\\nsamples = 166\\nvalue = [156, 10]'),\n",
              " Text(0.8024691358024691, 0.8582089552238806, 'X[7731] <= 1.5\\ngini = 0.082\\nsamples = 163\\nvalue = [156, 7]'),\n",
              " Text(0.7860082304526749, 0.8432835820895522, 'X[25068] <= 0.5\\ngini = 0.049\\nsamples = 159\\nvalue = [155, 4]'),\n",
              " Text(0.7777777777777778, 0.8283582089552238, 'X[19791] <= 0.5\\ngini = 0.037\\nsamples = 158\\nvalue = [155, 3]'),\n",
              " Text(0.7695473251028807, 0.8134328358208955, 'X[6367] <= 0.5\\ngini = 0.025\\nsamples = 157\\nvalue = [155, 2]'),\n",
              " Text(0.7613168724279835, 0.7985074626865671, 'X[11807] <= 0.5\\ngini = 0.013\\nsamples = 156\\nvalue = [155, 1]'),\n",
              " Text(0.7530864197530864, 0.7835820895522388, 'gini = 0.0\\nsamples = 155\\nvalue = [155, 0]'),\n",
              " Text(0.7695473251028807, 0.7835820895522388, 'gini = 0.0\\nsamples = 1\\nvalue = [0, 1]'),\n",
              " Text(0.7777777777777778, 0.7985074626865671, 'gini = 0.0\\nsamples = 1\\nvalue = [0, 1]'),\n",
              " Text(0.7860082304526749, 0.8134328358208955, 'gini = 0.0\\nsamples = 1\\nvalue = [0, 1]'),\n",
              " Text(0.7942386831275721, 0.8283582089552238, 'gini = 0.0\\nsamples = 1\\nvalue = [0, 1]'),\n",
              " Text(0.8189300411522634, 0.8432835820895522, 'X[13141] <= 0.5\\ngini = 0.375\\nsamples = 4\\nvalue = [1, 3]'),\n",
              " Text(0.8106995884773662, 0.8283582089552238, 'gini = 0.0\\nsamples = 3\\nvalue = [0, 3]'),\n",
              " Text(0.8271604938271605, 0.8283582089552238, 'gini = 0.0\\nsamples = 1\\nvalue = [1, 0]'),\n",
              " Text(0.8189300411522634, 0.8582089552238806, 'gini = 0.0\\nsamples = 3\\nvalue = [0, 3]'),\n",
              " Text(0.8271604938271605, 0.8731343283582089, 'gini = 0.0\\nsamples = 4\\nvalue = [0, 4]'),\n",
              " Text(0.8518518518518519, 0.8880597014925373, 'X[17852] <= 0.5\\ngini = 0.26\\nsamples = 13\\nvalue = [2, 11]'),\n",
              " Text(0.8436213991769548, 0.8731343283582089, 'gini = 0.0\\nsamples = 11\\nvalue = [0, 11]'),\n",
              " Text(0.8600823045267489, 0.8731343283582089, 'gini = 0.0\\nsamples = 2\\nvalue = [2, 0]'),\n",
              " Text(0.8930041152263375, 0.9029850746268657, 'X[23932] <= 0.5\\ngini = 0.332\\nsamples = 19\\nvalue = [4, 15]'),\n",
              " Text(0.8847736625514403, 0.8880597014925373, 'X[8611] <= 1.5\\ngini = 0.208\\nsamples = 17\\nvalue = [2, 15]'),\n",
              " Text(0.8765432098765432, 0.8731343283582089, 'gini = 0.0\\nsamples = 15\\nvalue = [0, 15]'),\n",
              " Text(0.8930041152263375, 0.8731343283582089, 'gini = 0.0\\nsamples = 2\\nvalue = [2, 0]'),\n",
              " Text(0.9012345679012346, 0.8880597014925373, 'gini = 0.0\\nsamples = 2\\nvalue = [2, 0]'),\n",
              " Text(0.934156378600823, 0.917910447761194, 'X[15727] <= 0.5\\ngini = 0.426\\nsamples = 65\\nvalue = [20, 45]'),\n",
              " Text(0.9259259259259259, 0.9029850746268657, 'X[23086] <= 0.5\\ngini = 0.316\\nsamples = 56\\nvalue = [11, 45]'),\n",
              " Text(0.9176954732510288, 0.8880597014925373, 'X[8149] <= 0.5\\ngini = 0.208\\nsamples = 51\\nvalue = [6, 45]'),\n",
              " Text(0.9094650205761317, 0.8731343283582089, 'X[23358] <= 1.0\\ngini = 0.081\\nsamples = 47\\nvalue = [2, 45]'),\n",
              " Text(0.9012345679012346, 0.8582089552238806, 'gini = 0.0\\nsamples = 45\\nvalue = [0, 45]'),\n",
              " Text(0.9176954732510288, 0.8582089552238806, 'gini = 0.0\\nsamples = 2\\nvalue = [2, 0]'),\n",
              " Text(0.9259259259259259, 0.8731343283582089, 'gini = 0.0\\nsamples = 4\\nvalue = [4, 0]'),\n",
              " Text(0.934156378600823, 0.8880597014925373, 'gini = 0.0\\nsamples = 5\\nvalue = [5, 0]'),\n",
              " Text(0.9423868312757202, 0.9029850746268657, 'gini = 0.0\\nsamples = 9\\nvalue = [9, 0]'),\n",
              " Text(0.9835390946502057, 0.9477611940298507, 'X[922] <= 0.5\\ngini = 0.162\\nsamples = 157\\nvalue = [143, 14]'),\n",
              " Text(0.9753086419753086, 0.9328358208955224, 'X[9273] <= 0.5\\ngini = 0.1\\nsamples = 151\\nvalue = [143, 8]'),\n",
              " Text(0.9670781893004116, 0.917910447761194, 'X[4523] <= 0.5\\ngini = 0.04\\nsamples = 146\\nvalue = [143, 3]'),\n",
              " Text(0.9588477366255144, 0.9029850746268657, 'X[26035] <= 3.0\\ngini = 0.014\\nsamples = 144\\nvalue = [143, 1]'),\n",
              " Text(0.9506172839506173, 0.8880597014925373, 'gini = 0.0\\nsamples = 143\\nvalue = [143, 0]'),\n",
              " Text(0.9670781893004116, 0.8880597014925373, 'gini = 0.0\\nsamples = 1\\nvalue = [0, 1]'),\n",
              " Text(0.9753086419753086, 0.9029850746268657, 'gini = 0.0\\nsamples = 2\\nvalue = [0, 2]'),\n",
              " Text(0.9835390946502057, 0.917910447761194, 'gini = 0.0\\nsamples = 5\\nvalue = [0, 5]'),\n",
              " Text(0.9917695473251029, 0.9328358208955224, 'gini = 0.0\\nsamples = 6\\nvalue = [0, 6]'),\n",
              " Text(0.9112654320987654, 0.9626865671641791, 'gini = 0.0\\nsamples = 531\\nvalue = [531, 0]'),\n",
              " Text(0.9194958847736625, 0.9776119402985075, 'gini = 0.0\\nsamples = 1912\\nvalue = [1912, 0]')]"
            ]
          },
          "metadata": {},
          "execution_count": 36
        },
        {
          "output_type": "display_data",
          "data": {
            "text/plain": [
              "<Figure size 432x288 with 1 Axes>"
            ],
            "image/png": "[encoded data removed]"
          },
          "metadata": {
            "needs_background": "light"
          }
        }
      ]
    },
    {
      "cell_type": "code",
      "source": [
        "#CART train accuracy\n",
        "\n",
        "from sklearn.metrics import accuracy_score, precision_score, recall_score,f1_score\n",
        "\n",
        "print('Accuracy score: ', accuracy_score(y_test, y_pred))\n",
        "print('Precision score: ', precision_score(y_test, y_pred))\n",
        "print('Recall score: ', recall_score(y_test, y_pred))\n",
        "print(\"F1 score: \",f1_score(y_test, y_pred))"
      ],
      "metadata": {
        "colab": {
          "base_uri": "https://localhost:8080/"
        },
        "id": "19eY3m4kbEPN",
        "outputId": "c4546ab1-b286-4f7f-da09-ce126894ec86"
      },
      "execution_count": 37,
      "outputs": [
        {
          "output_type": "stream",
          "name": "stdout",
          "text": [
            "Accuracy score:  0.951716114019779\n",
            "Precision score:  0.8926174496644296\n",
            "Recall score:  0.9193548387096774\n",
            "F1 score:  0.905788876276958\n"
          ]
        }
      ]
    },
    {
      "cell_type": "code",
      "source": [
        "#Random Forest train accuracy\n",
        "from sklearn.metrics import accuracy_score, precision_score, recall_score,f1_score\n",
        "\n",
        "print('Accuracy score: ', accuracy_score(y_test, y_pred1))\n",
        "print('Precision score: ', precision_score(y_test, y_pred1))\n",
        "print('Recall score: ', recall_score(y_test, y_pred1))\n",
        "print(\"F1 score: \",f1_score(y_test, y_pred1))"
      ],
      "metadata": {
        "colab": {
          "base_uri": "https://localhost:8080/"
        },
        "id": "3YmlKQmDbHMI",
        "outputId": "df4d852c-30bd-41b7-d779-ea0e90b25905"
      },
      "execution_count": 38,
      "outputs": [
        {
          "output_type": "stream",
          "name": "stdout",
          "text": [
            "Accuracy score:  0.9778941244909831\n",
            "Precision score:  0.9900990099009901\n",
            "Recall score:  0.9216589861751152\n",
            "F1 score:  0.954653937947494\n"
          ]
        }
      ]
    },
    {
      "cell_type": "code",
      "source": [
        "from sklearn import metrics\n",
        "import numpy as np\n",
        "import matplotlib.pyplot as plt\n",
        "fpr, tpr, _ = metrics.roc_curve(y_test,  y_pred)\n",
        "auc = round(metrics.roc_auc_score(y_test,  y_pred), 4)\n",
        "plt.plot(fpr,tpr,label=\"CART, AUC=\"+str(auc))\n",
        "\n",
        "fpr, tpr, _ = metrics.roc_curve(y_test,  y_pred1)\n",
        "auc = round(metrics.roc_auc_score(y_test,  y_pred1), 4)\n",
        "plt.plot(fpr,tpr,label=\"Random Forest, AUC=\"+str(auc))\n",
        "\n",
        "#add legend\n",
        "plt.legend()"
      ],
      "metadata": {
        "colab": {
          "base_uri": "https://localhost:8080/",
          "height": 289
        },
        "id": "bLvtWoqKbLD-",
        "outputId": "ebaa688f-5cb8-40be-e172-d3fdbf92cf4d"
      },
      "execution_count": 39,
      "outputs": [
        {
          "output_type": "execute_result",
          "data": {
            "text/plain": [
              "<matplotlib.legend.Legend at 0x7faec63b6790>"
            ]
          },
          "metadata": {},
          "execution_count": 39
        },
        {
          "output_type": "display_data",
          "data": {
            "text/plain": [
              "<Figure size 432x288 with 1 Axes>"
            ],
            "image/png": "[encoded data removed]"
          },
          "metadata": {
            "needs_background": "light"
          }
        }
      ]
    },
    {
      "cell_type": "code",
      "source": [],
      "metadata": {
        "id": "F2NO2kj6btQv"
      },
      "execution_count": null,
      "outputs": []
    },
    {
      "cell_type": "code",
      "source": [],
      "metadata": {
        "id": "PY7c2tyFfh_L"
      },
      "execution_count": null,
      "outputs": []
    }
  ]
}